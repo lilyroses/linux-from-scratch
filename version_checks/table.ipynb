{
 "cells": [
  {
   "cell_type": "markdown",
   "metadata": {},
   "source": [
    "# ASCII TABLE\n",
    "\n",
    "Create an ASCII table with specified number of columns and rows.\n",
    "Space the given text within each cell and print the table."
   ]
  },
  {
   "cell_type": "code",
   "execution_count": 30,
   "metadata": {},
   "outputs": [],
   "source": [
    "# Constants for table characters and the width of the table.\n",
    "\n",
    "CORNER = '+'\n",
    "ROW_CHAR = '-'\n",
    "COLUMN_CHAR = '|'\n",
    "SPACE = ' '\n",
    "\n",
    "TABLE_BORDER_MAX_LEN = 80"
   ]
  },
  {
   "cell_type": "code",
   "execution_count": 32,
   "metadata": {},
   "outputs": [],
   "source": [
    "# Text for the top row of the table\n",
    "\n",
    "titles = [\n",
    "    'RESULT',\n",
    "    'PROGRAM',\n",
    "    'CURRENT',\n",
    "    'MIN VERSION',\n",
    "    'MAX VERSION',\n",
    "    'SYMLINK',\n",
    "]"
   ]
  },
  {
   "cell_type": "code",
   "execution_count": 33,
   "metadata": {},
   "outputs": [],
   "source": [
    "# Text for the first column of the table, from the second through last rows.\n",
    "\n",
    "programs = [\n",
    "    'bash',\n",
    "    'binutils',\n",
    "    'bison',\n",
    "    'coreutils',\n",
    "    'diffutils',\n",
    "    'findutils',\n",
    "    'gawk',\n",
    "    'gcc',\n",
    "    'grep',\n",
    "    'gzip',\n",
    "    'linux kernel',\n",
    "    'm4',\n",
    "    'make',\n",
    "    'patch',\n",
    "    'perl',\n",
    "    'python',\n",
    "    'sed',\n",
    "    'tar',\n",
    "    'texinfo',\n",
    "    'xz'\n",
    "]"
   ]
  },
  {
   "cell_type": "code",
   "execution_count": 34,
   "metadata": {},
   "outputs": [],
   "source": [
    "# find number of columns based on number of titles\n",
    "num_of_columns = len(titles)\n",
    "\n",
    "# find number of corners based on number of columns plus one extra\n",
    "# for the ending corner\n",
    "num_of_corners = num_of_columns + 1\n",
    "\n",
    "# find rows from length of programs list\n",
    "num_of_rows = len(programs)"
   ]
  },
  {
   "cell_type": "code",
   "execution_count": 35,
   "metadata": {},
   "outputs": [],
   "source": [
    "# Find the number of characters allowed betweeen the column characters of each\n",
    "# cell.\n",
    "\n",
    "def find_chars_per_column(columns):\n",
    "    \n",
    "    return chars_per_column"
   ]
  },
  {
   "cell_type": "code",
   "execution_count": 36,
   "metadata": {},
   "outputs": [],
   "source": [
    "# check that the titles will fit in the cells\n",
    "for title in titles:\n",
    "    if len(title) > chars_per_column:\n",
    "        print(title)"
   ]
  },
  {
   "cell_type": "code",
   "execution_count": 37,
   "metadata": {},
   "outputs": [],
   "source": [
    "# check that programs will fit in the cells\n",
    "for program in programs:\n",
    "    if len(program) > chars_per_column:\n",
    "        print(program)"
   ]
  },
  {
   "cell_type": "code",
   "execution_count": 41,
   "metadata": {},
   "outputs": [],
   "source": [
    "def create_table_horiz_border(columns):\n",
    "    chars_per_column = (TABLE_BORDER_MAX_LEN - num_of_corners) // columns\n",
    "    single_column = CORNER + (ROW_CHAR * chars_per_column)\n",
    "    \n",
    "    top_border = (single_column * columns) + CORNER\n",
    "    return top_border\n",
    "    # print(top_border)"
   ]
  },
  {
   "cell_type": "code",
   "execution_count": 39,
   "metadata": {},
   "outputs": [],
   "source": [
    "def create_cell(column_chars, text):\n",
    "    spaces = column_chars - len(text)\n",
    "    \n",
    "    if len(text) % 2 == 0:\n",
    "        left_spaces = spaces // 2\n",
    "        right_spaces = spaces // 2\n",
    "    else:\n",
    "        left_spaces = spaces // 2\n",
    "        right_spaces = (spaces // 2) + 1\n",
    "    \n",
    "    cell = COLUMN_CHAR + (left_spaces * SPACE) + text + (right_spaces * SPACE)\n",
    "    \n",
    "    return cell"
   ]
  },
  {
   "cell_type": "code",
   "execution_count": 40,
   "metadata": {},
   "outputs": [
    {
     "name": "stdout",
     "output_type": "stream",
     "text": [
      "78\n"
     ]
    },
    {
     "ename": "NameError",
     "evalue": "name 'columns' is not defined",
     "output_type": "error",
     "traceback": [
      "\u001b[0;31m---------------------------------------------------------------------------\u001b[0m",
      "\u001b[0;31mNameError\u001b[0m                                 Traceback (most recent call last)",
      "Cell \u001b[0;32mIn[40], line 11\u001b[0m\n\u001b[1;32m      7\u001b[0m row \u001b[39m=\u001b[39m \u001b[39m'\u001b[39m\u001b[39m'\u001b[39m\u001b[39m.\u001b[39mjoin(cells)\n\u001b[1;32m      9\u001b[0m \u001b[39mprint\u001b[39m(\u001b[39mlen\u001b[39m(row))\n\u001b[0;32m---> 11\u001b[0m border \u001b[39m=\u001b[39m create_table_horiz_border(columns)\n\u001b[1;32m     12\u001b[0m \u001b[39mprint\u001b[39m(row)\n",
      "\u001b[0;31mNameError\u001b[0m: name 'columns' is not defined"
     ]
    }
   ],
   "source": [
    "cells = []\n",
    "\n",
    "for title in titles:\n",
    "    cell = create_cell(chars_per_column, title)\n",
    "    cells.append(cell)\n",
    "    \n",
    "row = ''.join(cells)\n",
    "\n",
    "print(len(row))\n",
    "\n",
    "border = create_table_horiz_border(columns)\n",
    "print(row)"
   ]
  },
  {
   "cell_type": "code",
   "execution_count": 16,
   "metadata": {},
   "outputs": [],
   "source": [
    "def create_row_of_cells(columns, column_chars):\n",
    "    single_cell = COLUMN_CHAR + (SPACE * chars_per_column)\n",
    "    row_of_cells = (single_cell * num_of_columns) + COLUMN_CHAR\n",
    "    return row_of_cells\n",
    "    # print(row_of_cells)"
   ]
  },
  {
   "cell_type": "code",
   "execution_count": 19,
   "metadata": {},
   "outputs": [
    {
     "name": "stdout",
     "output_type": "stream",
     "text": [
      "+------------+------------+------------+------------+------------+------------+\n",
      "|            |            |            |            |            |            |\n",
      "+------------+------------+------------+------------+------------+------------+\n",
      "|            |            |            |            |            |            |\n"
     ]
    }
   ],
   "source": [
    "table_border = create_table_horiz_border(num_of_columns, chars_per_column)\n",
    "table_row = create_row_of_cells(num_of_columns, chars_per_column)\n",
    "\n",
    "print(table_border)\n",
    "print(table_row)\n",
    "print(table_border)\n",
    "print(table_row)"
   ]
  },
  {
   "cell_type": "code",
   "execution_count": null,
   "metadata": {},
   "outputs": [],
   "source": [
    "def create_title_row(titles):\n",
    "    cells = []\n",
    "    \n",
    "    for title in titles:\n",
    "        spaces = chars_per_column - len(title)\n",
    "        if spaces % 2 == 0:\n",
    "            left_spaces = spaces // 2\n",
    "            right_spaces = spaces // 2\n",
    "        else:\n",
    "            left_spaces = (spaces // 2) + 1\n",
    "            right_spaces = spaces // 2 \n",
    "        cell = COLUMN_CHAR + (left_spaces * SPACE) + title + (right_spaces * SPACE)\n",
    "        cells.append(cell)\n",
    "    \n",
    "    row = ''.join(cells) + COLUMN_CHAR\n",
    "    print(row)\n",
    "    \n",
    "    \n",
    "create_title_row(titles)"
   ]
  },
  {
   "cell_type": "code",
   "execution_count": null,
   "metadata": {},
   "outputs": [],
   "source": [
    "# crate top border\n",
    "create_table_horiz_border(num_of_columns, chars_per_column)\n",
    "\n",
    "for row in range(0, num_of_rows):\n",
    "    create_row_of_cells(num_of_columns, chars_per_column)\n",
    "    create_table_horiz_border(num_of_columns, chars_per_column)\n",
    "    \n",
    "    \n",
    "\n",
    "# create_title_row(titles)\n",
    "# create_table_horiz_border(num_of_columns, chars_per_column)\n"
   ]
  }
 ],
 "metadata": {
  "kernelspec": {
   "display_name": "Python 3",
   "language": "python",
   "name": "python3"
  },
  "language_info": {
   "codemirror_mode": {
    "name": "ipython",
    "version": 3
   },
   "file_extension": ".py",
   "mimetype": "text/x-python",
   "name": "python",
   "nbconvert_exporter": "python",
   "pygments_lexer": "ipython3",
   "version": "3.10.12"
  },
  "orig_nbformat": 4
 },
 "nbformat": 4,
 "nbformat_minor": 2
}
